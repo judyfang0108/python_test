{
 "cells": [
  {
   "cell_type": "code",
   "execution_count": 118,
   "metadata": {},
   "outputs": [],
   "source": [
    "#匯入converter\n",
    "from converter import trans,php_to_file,file_to_dict\n",
    "php_to_file()\n",
    "s2t=file_to_dict('simple_to_traditional.txt')\n",
    "t2s=file_to_dict('traditional_to_simple.txt')"
   ]
  },
  {
   "cell_type": "code",
   "execution_count": 119,
   "metadata": {},
   "outputs": [],
   "source": [
    "import requests\n",
    "name=[]\n",
    "price=[]\n",
    "for i in range(100):\n",
    "    new=str(60*i)\n",
    "    res=requests.get('https://shopee.tw/api/v4/search/search_items?by=relevancy&fe_categoryids=11041645&limit=60&newest='+new+'&order=desc&page_type=search&scenario=PAGE_OTHERS&version=2',)\n",
    "    data=res.json()\n",
    "    for i in range(len(data['items'])):\n",
    "        if(data['items'][i]['item_basic']['price_min']==data['items'][i]['item_basic']['price_max']):\n",
    "            name.append(trans(data['items'][i]['item_basic']['name'],t2s))#繁轉簡\n",
    "            price.append(data['items'][i]['item_basic']['price']/100000)\n",
    "            #print('Name:',data['items'][i]['item_basic']['name'],'Price:',data['items'][i]['item_basic']['price']/100000)\n",
    "        else:\n",
    "            name.append(data['items'][i]['item_basic']['name'])\n",
    "            price.append(str(data['items'][i]['item_basic']['price_min']/100000)+'-'+str(data['items'][i]['item_basic']['price_max']/100000))\n",
    "            #print('Name:',data['items'][i]['item_basic']['name'],'Price:',data['items'][i]['item_basic']['price_min']/100000,'-',data['items'][i]['item_basic']['price_max']/100000)"
   ]
  },
  {
   "cell_type": "code",
   "execution_count": 120,
   "metadata": {},
   "outputs": [],
   "source": [
    "import pandas as pd\n",
    "df=pd.DataFrame()\n",
    "df['Title']=name\n",
    "df['Price(TWD)']=price\n",
    "df.to_csv('out.csv',encoding='utf_8_sig')"
   ]
  }
 ],
 "metadata": {
  "interpreter": {
   "hash": "0571184515bc218bc3a587aa61806576ca2fd74938d0fe500bb94829c3b5471f"
  },
  "kernelspec": {
   "display_name": "Python 3.9.6 64-bit ('py39': conda)",
   "language": "python",
   "name": "python3"
  },
  "language_info": {
   "codemirror_mode": {
    "name": "ipython",
    "version": 3
   },
   "file_extension": ".py",
   "mimetype": "text/x-python",
   "name": "python",
   "nbconvert_exporter": "python",
   "pygments_lexer": "ipython3",
   "version": "3.9.6"
  },
  "orig_nbformat": 4
 },
 "nbformat": 4,
 "nbformat_minor": 2
}
